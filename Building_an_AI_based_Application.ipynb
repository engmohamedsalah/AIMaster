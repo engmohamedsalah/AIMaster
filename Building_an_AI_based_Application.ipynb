{
  "nbformat": 4,
  "nbformat_minor": 0,
  "metadata": {
    "colab": {
      "provenance": [],
      "toc_visible": true,
      "authorship_tag": "ABX9TyPaujm/OxgxW4h0KngVtYpp",
      "include_colab_link": true
    },
    "kernelspec": {
      "name": "python3",
      "display_name": "Python 3"
    },
    "language_info": {
      "name": "python"
    }
  },
  "cells": [
    {
      "cell_type": "markdown",
      "metadata": {
        "id": "view-in-github",
        "colab_type": "text"
      },
      "source": [
        "<a href=\"https://colab.research.google.com/github/engmohamedsalah/AIMaster/blob/master/Building_an_AI_based_Application.ipynb\" target=\"_parent\"><img src=\"https://colab.research.google.com/assets/colab-badge.svg\" alt=\"Open In Colab\"/></a>"
      ]
    },
    {
      "cell_type": "markdown",
      "source": [
        "*italicized text*# New Section"
      ],
      "metadata": {
        "id": "guh1BlmWnAw0"
      }
    },
    {
      "cell_type": "markdown",
      "source": [
        "# Building an AI-based Application"
      ],
      "metadata": {
        "id": "6otTHdmmnGWT"
      }
    },
    {
      "cell_type": "markdown",
      "source": [
        "# Task 1:\n",
        "\n",
        "Load the provided CSV dataset (sample-superstore.csv) into Python and print the first ten records with the associated column names."
      ],
      "metadata": {
        "id": "nw-mdhrQnWTy"
      }
    },
    {
      "cell_type": "code",
      "source": [],
      "metadata": {
        "id": "dZu5s3opneI1"
      },
      "execution_count": null,
      "outputs": []
    }
  ]
}