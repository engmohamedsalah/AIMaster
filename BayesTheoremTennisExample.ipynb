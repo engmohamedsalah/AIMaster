{
 "cells": [
  {
   "cell_type": "code",
   "execution_count": 6,
   "id": "14f081e4",
   "metadata": {},
   "outputs": [],
   "source": [
    "import numpy as np\n",
    "import pandas as pd\n",
    "import matplotlib.pyplot as plt\n",
    "%matplotlib inline"
   ]
  },
  {
   "cell_type": "code",
   "execution_count": 7,
   "id": "64cd2090",
   "metadata": {},
   "outputs": [],
   "source": [
    "tennis = pd.read_csv('tennis.csv')"
   ]
  },
  {
   "cell_type": "code",
   "execution_count": 8,
   "id": "6d4da93e",
   "metadata": {},
   "outputs": [
    {
     "data": {
      "text/html": [
       "<div>\n",
       "<style scoped>\n",
       "    .dataframe tbody tr th:only-of-type {\n",
       "        vertical-align: middle;\n",
       "    }\n",
       "\n",
       "    .dataframe tbody tr th {\n",
       "        vertical-align: top;\n",
       "    }\n",
       "\n",
       "    .dataframe thead th {\n",
       "        text-align: right;\n",
       "    }\n",
       "</style>\n",
       "<table border=\"1\" class=\"dataframe\">\n",
       "  <thead>\n",
       "    <tr style=\"text-align: right;\">\n",
       "      <th></th>\n",
       "      <th>outlook</th>\n",
       "      <th>temp</th>\n",
       "      <th>humidity</th>\n",
       "      <th>windy</th>\n",
       "      <th>play</th>\n",
       "    </tr>\n",
       "  </thead>\n",
       "  <tbody>\n",
       "    <tr>\n",
       "      <th>0</th>\n",
       "      <td>sunny</td>\n",
       "      <td>hot</td>\n",
       "      <td>high</td>\n",
       "      <td>False</td>\n",
       "      <td>no</td>\n",
       "    </tr>\n",
       "    <tr>\n",
       "      <th>1</th>\n",
       "      <td>sunny</td>\n",
       "      <td>hot</td>\n",
       "      <td>high</td>\n",
       "      <td>True</td>\n",
       "      <td>no</td>\n",
       "    </tr>\n",
       "    <tr>\n",
       "      <th>2</th>\n",
       "      <td>overcast</td>\n",
       "      <td>hot</td>\n",
       "      <td>high</td>\n",
       "      <td>False</td>\n",
       "      <td>yes</td>\n",
       "    </tr>\n",
       "    <tr>\n",
       "      <th>3</th>\n",
       "      <td>rainy</td>\n",
       "      <td>mild</td>\n",
       "      <td>high</td>\n",
       "      <td>False</td>\n",
       "      <td>yes</td>\n",
       "    </tr>\n",
       "    <tr>\n",
       "      <th>4</th>\n",
       "      <td>rainy</td>\n",
       "      <td>cool</td>\n",
       "      <td>normal</td>\n",
       "      <td>False</td>\n",
       "      <td>yes</td>\n",
       "    </tr>\n",
       "    <tr>\n",
       "      <th>5</th>\n",
       "      <td>rainy</td>\n",
       "      <td>cool</td>\n",
       "      <td>normal</td>\n",
       "      <td>True</td>\n",
       "      <td>no</td>\n",
       "    </tr>\n",
       "    <tr>\n",
       "      <th>6</th>\n",
       "      <td>overcast</td>\n",
       "      <td>cool</td>\n",
       "      <td>normal</td>\n",
       "      <td>True</td>\n",
       "      <td>yes</td>\n",
       "    </tr>\n",
       "    <tr>\n",
       "      <th>7</th>\n",
       "      <td>sunny</td>\n",
       "      <td>mild</td>\n",
       "      <td>high</td>\n",
       "      <td>False</td>\n",
       "      <td>no</td>\n",
       "    </tr>\n",
       "    <tr>\n",
       "      <th>8</th>\n",
       "      <td>sunny</td>\n",
       "      <td>cool</td>\n",
       "      <td>normal</td>\n",
       "      <td>False</td>\n",
       "      <td>yes</td>\n",
       "    </tr>\n",
       "    <tr>\n",
       "      <th>9</th>\n",
       "      <td>rainy</td>\n",
       "      <td>mild</td>\n",
       "      <td>normal</td>\n",
       "      <td>False</td>\n",
       "      <td>yes</td>\n",
       "    </tr>\n",
       "    <tr>\n",
       "      <th>10</th>\n",
       "      <td>sunny</td>\n",
       "      <td>mild</td>\n",
       "      <td>normal</td>\n",
       "      <td>True</td>\n",
       "      <td>yes</td>\n",
       "    </tr>\n",
       "    <tr>\n",
       "      <th>11</th>\n",
       "      <td>overcast</td>\n",
       "      <td>mild</td>\n",
       "      <td>high</td>\n",
       "      <td>True</td>\n",
       "      <td>yes</td>\n",
       "    </tr>\n",
       "    <tr>\n",
       "      <th>12</th>\n",
       "      <td>overcast</td>\n",
       "      <td>hot</td>\n",
       "      <td>normal</td>\n",
       "      <td>False</td>\n",
       "      <td>yes</td>\n",
       "    </tr>\n",
       "    <tr>\n",
       "      <th>13</th>\n",
       "      <td>rainy</td>\n",
       "      <td>mild</td>\n",
       "      <td>high</td>\n",
       "      <td>True</td>\n",
       "      <td>no</td>\n",
       "    </tr>\n",
       "  </tbody>\n",
       "</table>\n",
       "</div>"
      ],
      "text/plain": [
       "     outlook  temp humidity  windy play\n",
       "0      sunny   hot     high  False   no\n",
       "1      sunny   hot     high   True   no\n",
       "2   overcast   hot     high  False  yes\n",
       "3      rainy  mild     high  False  yes\n",
       "4      rainy  cool   normal  False  yes\n",
       "5      rainy  cool   normal   True   no\n",
       "6   overcast  cool   normal   True  yes\n",
       "7      sunny  mild     high  False   no\n",
       "8      sunny  cool   normal  False  yes\n",
       "9      rainy  mild   normal  False  yes\n",
       "10     sunny  mild   normal   True  yes\n",
       "11  overcast  mild     high   True  yes\n",
       "12  overcast   hot   normal  False  yes\n",
       "13     rainy  mild     high   True   no"
      ]
     },
     "execution_count": 8,
     "metadata": {},
     "output_type": "execute_result"
    }
   ],
   "source": [
    "tennis"
   ]
  },
  {
   "cell_type": "code",
   "execution_count": 9,
   "id": "bb4b467c",
   "metadata": {},
   "outputs": [],
   "source": [
    "outlook = tennis.groupby(['outlook', 'play']).size()\n",
    "temp = tennis.groupby(['temp', 'play']).size()\n",
    "humidity = tennis.groupby(['humidity', 'play']).size()\n",
    "windy = tennis.groupby(['windy', 'play']).size()\n",
    "play = tennis.play.value_counts()"
   ]
  },
  {
   "cell_type": "code",
   "execution_count": 10,
   "id": "0e9e7acc",
   "metadata": {},
   "outputs": [
    {
     "name": "stdout",
     "output_type": "stream",
     "text": [
      "temp  play\n",
      "cool  no      1\n",
      "      yes     3\n",
      "hot   no      2\n",
      "      yes     2\n",
      "mild  no      2\n",
      "      yes     4\n",
      "dtype: int64\n",
      "------------------\n",
      "humidity  play\n",
      "high      no      4\n",
      "          yes     3\n",
      "normal    no      1\n",
      "          yes     6\n",
      "dtype: int64\n",
      "------------------\n",
      "windy  play\n",
      "False  no      2\n",
      "       yes     6\n",
      "True   no      3\n",
      "       yes     3\n",
      "dtype: int64\n",
      "------------------\n",
      "outlook   play\n",
      "overcast  yes     4\n",
      "rainy     no      2\n",
      "          yes     3\n",
      "sunny     no      3\n",
      "          yes     2\n",
      "dtype: int64\n",
      "------------------\n",
      "play\n",
      "play\n",
      "yes    9\n",
      "no     5\n",
      "Name: count, dtype: int64\n"
     ]
    }
   ],
   "source": [
    "print(temp)\n",
    "print('------------------')\n",
    "print(humidity)\n",
    "print('------------------')\n",
    "print(windy)\n",
    "print('------------------')\n",
    "print(outlook)\n",
    "print('------------------')\n",
    "print('play')\n",
    "print(play)"
   ]
  },
  {
   "cell_type": "code",
   "execution_count": 17,
   "id": "a19f12ba",
   "metadata": {},
   "outputs": [
    {
     "name": "stdout",
     "output_type": "stream",
     "text": [
      "<class 'pandas.core.frame.DataFrame'>\n",
      "<class 'pandas.core.series.Series'>\n"
     ]
    }
   ],
   "source": [
    "print(type(tennis))\n",
    "print(type(outlook))"
   ]
  },
  {
   "cell_type": "code",
   "execution_count": 18,
   "id": "881fbf9c",
   "metadata": {},
   "outputs": [
    {
     "name": "stdout",
     "output_type": "stream",
     "text": [
      "outlook   play\n",
      "overcast  yes     4\n",
      "rainy     no      2\n",
      "          yes     3\n",
      "sunny     no      3\n",
      "          yes     2\n",
      "dtype: int64\n"
     ]
    }
   ],
   "source": [
    "print(outlook)"
   ]
  },
  {
   "cell_type": "code",
   "execution_count": 19,
   "id": "e200221e",
   "metadata": {},
   "outputs": [
    {
     "name": "stdout",
     "output_type": "stream",
     "text": [
      "<pandas.core.groupby.generic.DataFrameGroupBy object at 0x140b8d950>\n"
     ]
    }
   ],
   "source": [
    "print(tennis.groupby(['outlook', 'play']))"
   ]
  },
  {
   "cell_type": "code",
   "execution_count": 20,
   "id": "22032f23",
   "metadata": {},
   "outputs": [
    {
     "name": "stdout",
     "output_type": "stream",
     "text": [
      "('overcast', 'yes')\n",
      "     outlook  temp humidity  windy play\n",
      "2   overcast   hot     high  False  yes\n",
      "6   overcast  cool   normal   True  yes\n",
      "11  overcast  mild     high   True  yes\n",
      "12  overcast   hot   normal  False  yes\n",
      "\n",
      "\n",
      "('rainy', 'no')\n",
      "   outlook  temp humidity  windy play\n",
      "5    rainy  cool   normal   True   no\n",
      "13   rainy  mild     high   True   no\n",
      "\n",
      "\n",
      "('rainy', 'yes')\n",
      "  outlook  temp humidity  windy play\n",
      "3   rainy  mild     high  False  yes\n",
      "4   rainy  cool   normal  False  yes\n",
      "9   rainy  mild   normal  False  yes\n",
      "\n",
      "\n",
      "('sunny', 'no')\n",
      "  outlook  temp humidity  windy play\n",
      "0   sunny   hot     high  False   no\n",
      "1   sunny   hot     high   True   no\n",
      "7   sunny  mild     high  False   no\n",
      "\n",
      "\n",
      "('sunny', 'yes')\n",
      "   outlook  temp humidity  windy play\n",
      "8    sunny  cool   normal  False  yes\n",
      "10   sunny  mild   normal   True  yes\n",
      "\n",
      "\n"
     ]
    }
   ],
   "source": [
    "for group, data in tennis.groupby(['outlook', 'play']):\n",
    "    print(group)\n",
    "    print(data)\n",
    "    print('\\n')  # Add a line break for better readability"
   ]
  },
  {
   "cell_type": "code",
   "execution_count": 21,
   "id": "335b7225",
   "metadata": {},
   "outputs": [],
   "source": [
    "def bayestheorem():\n",
    "    print('Posterior [P(c|x)] - Posterior probability of the target/class (c) given predictors (x)'),\n",
    "    print('Prior [P(c)] - Prior probability of the class (target)'),\n",
    "    print('Likelihood [P(x|c)] - Probability of the predictor (x) given the class/target (c)'),\n",
    "    print('Evidence [P(x)] - Prior probability of the predictor (x))')\n"
   ]
  },
  {
   "cell_type": "code",
   "execution_count": 22,
   "id": "372c6321",
   "metadata": {},
   "outputs": [
    {
     "name": "stdout",
     "output_type": "stream",
     "text": [
      "play      no  yes  All\n",
      "outlook               \n",
      "overcast   0    4    4\n",
      "rainy      2    3    5\n",
      "sunny      3    2    5\n",
      "All        5    9   14\n"
     ]
    }
   ],
   "source": [
    "ct = pd.crosstab(tennis['outlook'], tennis['play'], margins = True)\n",
    "print(ct)"
   ]
  },
  {
   "cell_type": "code",
   "execution_count": 23,
   "id": "558eb305",
   "metadata": {},
   "outputs": [
    {
     "data": {
      "text/html": [
       "<div>\n",
       "<style scoped>\n",
       "    .dataframe tbody tr th:only-of-type {\n",
       "        vertical-align: middle;\n",
       "    }\n",
       "\n",
       "    .dataframe tbody tr th {\n",
       "        vertical-align: top;\n",
       "    }\n",
       "\n",
       "    .dataframe thead th {\n",
       "        text-align: right;\n",
       "    }\n",
       "</style>\n",
       "<table border=\"1\" class=\"dataframe\">\n",
       "  <thead>\n",
       "    <tr style=\"text-align: right;\">\n",
       "      <th></th>\n",
       "      <th>no</th>\n",
       "      <th>yes</th>\n",
       "      <th>rowtotal</th>\n",
       "    </tr>\n",
       "  </thead>\n",
       "  <tbody>\n",
       "    <tr>\n",
       "      <th>overcast</th>\n",
       "      <td>0.000000</td>\n",
       "      <td>0.285714</td>\n",
       "      <td>0.285714</td>\n",
       "    </tr>\n",
       "    <tr>\n",
       "      <th>rainy</th>\n",
       "      <td>0.142857</td>\n",
       "      <td>0.214286</td>\n",
       "      <td>0.357143</td>\n",
       "    </tr>\n",
       "    <tr>\n",
       "      <th>sunny</th>\n",
       "      <td>0.214286</td>\n",
       "      <td>0.142857</td>\n",
       "      <td>0.357143</td>\n",
       "    </tr>\n",
       "    <tr>\n",
       "      <th>coltotal</th>\n",
       "      <td>0.357143</td>\n",
       "      <td>0.642857</td>\n",
       "      <td>1.000000</td>\n",
       "    </tr>\n",
       "  </tbody>\n",
       "</table>\n",
       "</div>"
      ],
      "text/plain": [
       "                no       yes  rowtotal\n",
       "overcast  0.000000  0.285714  0.285714\n",
       "rainy     0.142857  0.214286  0.357143\n",
       "sunny     0.214286  0.142857  0.357143\n",
       "coltotal  0.357143  0.642857  1.000000"
      ]
     },
     "execution_count": 23,
     "metadata": {},
     "output_type": "execute_result"
    }
   ],
   "source": [
    "ct.columns = [\"no\",\"yes\",\"rowtotal\"]\n",
    "ct.index= [\"overcast\",\"rainy\",\"sunny\",\"coltotal\"]\n",
    "ct / ct.loc[\"coltotal\",\"rowtotal\"]"
   ]
  },
  {
   "cell_type": "code",
   "execution_count": 24,
   "id": "5cba51d9",
   "metadata": {},
   "outputs": [
    {
     "name": "stdout",
     "output_type": "stream",
     "text": [
      "<class 'pandas.core.frame.DataFrame'>\n"
     ]
    }
   ],
   "source": [
    "print(type(ct))"
   ]
  },
  {
   "cell_type": "code",
   "execution_count": null,
   "id": "955bb4d8",
   "metadata": {},
   "outputs": [],
   "source": []
  }
 ],
 "metadata": {
  "kernelspec": {
   "display_name": "Python 3 (ipykernel)",
   "language": "python",
   "name": "python3"
  },
  "language_info": {
   "codemirror_mode": {
    "name": "ipython",
    "version": 3
   },
   "file_extension": ".py",
   "mimetype": "text/x-python",
   "name": "python",
   "nbconvert_exporter": "python",
   "pygments_lexer": "ipython3",
   "version": "3.11.5"
  }
 },
 "nbformat": 4,
 "nbformat_minor": 5
}
