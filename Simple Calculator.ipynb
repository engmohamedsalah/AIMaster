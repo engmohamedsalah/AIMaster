{
 "cells": [
  {
   "cell_type": "code",
   "execution_count": null,
   "id": "1fb9950e",
   "metadata": {},
   "outputs": [
    {
     "ename": "",
     "evalue": "",
     "output_type": "error",
     "traceback": [
      "\u001b[1;31mRunning cells with '/usr/local/bin/python3' requires the ipykernel package.\n",
      "\u001b[1;31mRun the following command to install 'ipykernel' into the Python environment. \n",
      "\u001b[1;31mCommand: '/usr/local/bin/python3 -m pip install ipykernel -U --user --force-reinstall'"
     ]
    }
   ],
   "source": [
    "def switch_case_operation(case):\n",
    "    if case == '1':\n",
    "        return ('Add this', 'to this')\n",
    "    elif case == '2':\n",
    "        return ('Subtract this', 'with this')\n",
    "    elif case == '3':\n",
    "        return ('Multiply this', 'by this')\n",
    "    elif case == '4':\n",
    "        return ('Divid this', 'over this')\n",
    "    else:\n",
    "        return (None, None)\n",
    "    \n",
    "    \n",
    "def print_welcome_message():\n",
    "    print('Hello to a M.S Calculator')\n",
    "    print('1 Addition')\n",
    "    print('2 Subtraction')\n",
    "    print('3 Multiplication')\n",
    "    print('4 Division')\n",
    "    print('5 Quit calculator')\n",
    "    print('\\n')\n",
    "    print('choose your option')\n",
    "\n",
    "\n",
    "def read_number(prompt):\n",
    "    while True:\n",
    "        input_str = input(prompt)\n",
    "        try:\n",
    "            number = int(input_str)\n",
    "            return number\n",
    "        except ValueError:\n",
    "            try:\n",
    "                number = float(input_str)\n",
    "                return number\n",
    "            except ValueError:\n",
    "                print(\"Invalid input. Please enter a valid number.\")\n",
    "    \n",
    "    \n",
    "def print_operation(operator1, operation, operator2, result):\n",
    "    formatted_output = f\"{operator1} {operation} {operator2} = {result}\"\n",
    "    print(formatted_output)\n",
    "    print('=======')\n",
    "    \n",
    "while True:\n",
    "    print_welcome_message()\n",
    "    op_num = input()\n",
    "    if op_num == '5':\n",
    "        print('exist bye!!')\n",
    "        break\n",
    "    first_msg, second_msg = switch_case_operation(op_num)\n",
    "    if first_msg== None:\n",
    "        print('ERROR input')\n",
    "        print_welcome_message()\n",
    "        continue\n",
    "    \n",
    "    op1=read_number(first_msg+':')\n",
    "    op2=read_number(second_msg+':')\n",
    "    \n",
    "    if op_num=='1':\n",
    "        print_operation(op1,'+',op1,op1+op2)\n",
    "    elif op_num=='2':\n",
    "        print_operation(op1,'-',op1,op1-op2)\n",
    "    elif op_num=='3':\n",
    "        print_operation(op1,'*',op1,op1*op2)\n",
    "    elif op_num=='4':\n",
    "        print_operation(op1,'/',op1,op1/op2)\n",
    "        \n",
    "       \n",
    "    \n",
    "    \n",
    "    \n",
    "\n",
    "    \n",
    "    \n",
    "\n",
    "    \n",
    "\n"
   ]
  },
  {
   "cell_type": "code",
   "execution_count": null,
   "id": "468570ac",
   "metadata": {},
   "outputs": [
    {
     "ename": "",
     "evalue": "",
     "output_type": "error",
     "traceback": [
      "\u001b[1;31mRunning cells with '/usr/local/bin/python3' requires the ipykernel package.\n",
      "\u001b[1;31mRun the following command to install 'ipykernel' into the Python environment. \n",
      "\u001b[1;31mCommand: '/usr/local/bin/python3 -m pip install ipykernel -U --user --force-reinstall'"
     ]
    }
   ],
   "source": []
  },
  {
   "cell_type": "code",
   "execution_count": null,
   "id": "7072310b",
   "metadata": {},
   "outputs": [
    {
     "ename": "",
     "evalue": "",
     "output_type": "error",
     "traceback": [
      "\u001b[1;31mRunning cells with '/usr/local/bin/python3' requires the ipykernel package.\n",
      "\u001b[1;31mRun the following command to install 'ipykernel' into the Python environment. \n",
      "\u001b[1;31mCommand: '/usr/local/bin/python3 -m pip install ipykernel -U --user --force-reinstall'"
     ]
    }
   ],
   "source": []
  }
 ],
 "metadata": {
  "kernelspec": {
   "display_name": "Python 3 (ipykernel)",
   "language": "python",
   "name": "python3"
  },
  "language_info": {
   "codemirror_mode": {
    "name": "ipython",
    "version": 3
   },
   "file_extension": ".py",
   "mimetype": "text/x-python",
   "name": "python",
   "nbconvert_exporter": "python",
   "pygments_lexer": "ipython3",
   "version": "3.12.0"
  }
 },
 "nbformat": 4,
 "nbformat_minor": 5
}
