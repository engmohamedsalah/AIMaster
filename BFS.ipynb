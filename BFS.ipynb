{
 "cells": [
  {
   "cell_type": "code",
   "execution_count": 17,
   "id": "d1ccb55f",
   "metadata": {},
   "outputs": [
    {
     "name": "stdout",
     "output_type": "stream",
     "text": [
      "0\n",
      "7\n",
      "5\n",
      "3\n",
      "2\n",
      "4\n",
      "1\n",
      "6\n"
     ]
    }
   ],
   "source": [
    "class TreeNode:\n",
    "    def __init__(self, value):\n",
    "        self.value = value\n",
    "        self.children = []\n",
    "    def add_child(self, child_node):\n",
    "        self.children.append(child_node)\n",
    "        \n",
    "        \n",
    "        \n",
    "# Creating a tree\n",
    "root = TreeNode(\"0\")\n",
    "child7 = TreeNode(\"7\")\n",
    "child5 = TreeNode(\"5\")\n",
    "child3 = TreeNode(\"3\")\n",
    "\n",
    "child2 = TreeNode(\"2\")\n",
    "child4 = TreeNode(\"4\")\n",
    "child1 = TreeNode(\"1\")\n",
    "child6 = TreeNode(\"6\")\n",
    "\n",
    "\n",
    "# Connecting nodes\n",
    "root.add_child(child7)\n",
    "root.add_child(child5)\n",
    "root.add_child(child3)\n",
    "\n",
    "child7.add_child(child2)\n",
    "child7.add_child(child4)\n",
    "\n",
    "child5.add_child(child1)\n",
    "child3.add_child(child6)\n",
    "\n",
    "\n",
    "def BFS(root):\n",
    "    stack = []\n",
    "    stack.append(root)\n",
    "    while(len(stack)>0):\n",
    "        curr = stack.pop(0)\n",
    "        print(curr.value)\n",
    "        for c in curr.children:\n",
    "            stack.append(c)\n",
    "        \n",
    "        \n",
    "BFS(root)\n",
    "        \n",
    " \n",
    "\n"
   ]
  },
  {
   "cell_type": "code",
   "execution_count": null,
   "id": "a2f63611",
   "metadata": {},
   "outputs": [],
   "source": []
  }
 ],
 "metadata": {
  "kernelspec": {
   "display_name": "Python 3 (ipykernel)",
   "language": "python",
   "name": "python3"
  },
  "language_info": {
   "codemirror_mode": {
    "name": "ipython",
    "version": 3
   },
   "file_extension": ".py",
   "mimetype": "text/x-python",
   "name": "python",
   "nbconvert_exporter": "python",
   "pygments_lexer": "ipython3",
   "version": "3.11.5"
  }
 },
 "nbformat": 4,
 "nbformat_minor": 5
}
