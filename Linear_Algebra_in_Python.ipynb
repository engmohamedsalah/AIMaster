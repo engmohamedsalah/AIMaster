{
  "nbformat": 4,
  "nbformat_minor": 0,
  "metadata": {
    "colab": {
      "provenance": [],
      "authorship_tag": "ABX9TyNIGq/3e9Yo43KFnNbUoDtB",
      "include_colab_link": true
    },
    "kernelspec": {
      "name": "python3",
      "display_name": "Python 3"
    },
    "language_info": {
      "name": "python"
    }
  },
  "cells": [
    {
      "cell_type": "markdown",
      "metadata": {
        "id": "view-in-github",
        "colab_type": "text"
      },
      "source": [
        "<a href=\"https://colab.research.google.com/github/engmohamedsalah/AIMaster/blob/master/Linear_Algebra_in_Python.ipynb\" target=\"_parent\"><img src=\"https://colab.research.google.com/assets/colab-badge.svg\" alt=\"Open In Colab\"/></a>"
      ]
    },
    {
      "cell_type": "markdown",
      "source": [
        "#1. Load libraries and create a matrix"
      ],
      "metadata": {
        "id": "KnhPD9BWAacW"
      }
    },
    {
      "cell_type": "code",
      "execution_count": 1,
      "metadata": {
        "id": "Y6-ThxoP-Vq9"
      },
      "outputs": [],
      "source": [
        "%matplotlib inline\n",
        "import sympy as sympy\n",
        "import numpy as np\n",
        "import matplotlib.pyplot as plt\n",
        "import seaborn as sbn\n",
        "from scipy import *"
      ]
    },
    {
      "cell_type": "code",
      "source": [
        "x = .5\n",
        "print(x)"
      ],
      "metadata": {
        "colab": {
          "base_uri": "https://localhost:8080/"
        },
        "id": "0iWswSrc-fB1",
        "outputId": "de018de6-05d2-405f-be73-fcc9eb8de959"
      },
      "execution_count": 3,
      "outputs": [
        {
          "output_type": "stream",
          "name": "stdout",
          "text": [
            "0.5\n"
          ]
        }
      ]
    },
    {
      "cell_type": "code",
      "source": [
        "x_vector = np.array([1,2,3])\n",
        "print(x_vector)\n"
      ],
      "metadata": {
        "colab": {
          "base_uri": "https://localhost:8080/"
        },
        "id": "1k_iG86E-mIT",
        "outputId": "95edc97a-ee23-4cda-fba9-dd90fb5aa23b"
      },
      "execution_count": 4,
      "outputs": [
        {
          "output_type": "stream",
          "name": "stdout",
          "text": [
            "[1 2 3]\n"
          ]
        }
      ]
    },
    {
      "cell_type": "code",
      "source": [
        "c_list = [1,2]\n",
        "print(\"The list:\",c_list)\n",
        "print(\"Has length:\", len(c_list))\n",
        "\n",
        "c_vector = np.array(c_list)\n",
        "print(\"The vector:\", c_vector)\n",
        "print(\"Has shape:\",c_vector.shape)"
      ],
      "metadata": {
        "colab": {
          "base_uri": "https://localhost:8080/"
        },
        "id": "CU4e5wSV-sPa",
        "outputId": "dea97d4b-3e7e-48b3-d0c8-2381e21ef236"
      },
      "execution_count": 5,
      "outputs": [
        {
          "output_type": "stream",
          "name": "stdout",
          "text": [
            "The list: [1, 2]\n",
            "Has length: 2\n",
            "The vector: [1 2]\n",
            "Has shape: (2,)\n"
          ]
        }
      ]
    },
    {
      "cell_type": "code",
      "source": [
        "z = [5,6]\n",
        "print(\"This is a list, not an array:\",z)\n",
        "print(type(z))\n",
        "\n",
        "\n",
        "zarray = np.array(z)\n",
        "print(\"This is an array, not a list\",zarray)\n",
        "print(type(zarray))\n"
      ],
      "metadata": {
        "colab": {
          "base_uri": "https://localhost:8080/"
        },
        "id": "XNggbMZn_B7Z",
        "outputId": "4014c564-c547-48bb-ac6e-f5aef27679cc"
      },
      "execution_count": 6,
      "outputs": [
        {
          "output_type": "stream",
          "name": "stdout",
          "text": [
            "This is a list, not an array: [5, 6]\n",
            "<class 'list'>\n",
            "This is an array, not a list [5 6]\n",
            "<class 'numpy.ndarray'>\n"
          ]
        }
      ]
    },
    {
      "cell_type": "code",
      "source": [
        "b = list(zip(z,c_vector))\n",
        "print(b)"
      ],
      "metadata": {
        "colab": {
          "base_uri": "https://localhost:8080/"
        },
        "id": "sPh_JLyw_M0b",
        "outputId": "d15bb593-6a50-4483-8479-887e96c359e2"
      },
      "execution_count": 7,
      "outputs": [
        {
          "output_type": "stream",
          "name": "stdout",
          "text": [
            "[(5, 1), (6, 2)]\n"
          ]
        }
      ]
    },
    {
      "cell_type": "code",
      "source": [
        "A = np.array(b)\n",
        "print( A)\n",
        "print( type(A))\n",
        "print( \"A has shape:\",A.shape)"
      ],
      "metadata": {
        "colab": {
          "base_uri": "https://localhost:8080/"
        },
        "id": "qCjiS9ip_UF4",
        "outputId": "978e719e-4c17-4c2f-c789-cd421bf0c087"
      },
      "execution_count": 10,
      "outputs": [
        {
          "output_type": "stream",
          "name": "stdout",
          "text": [
            "[[5 1]\n",
            " [6 2]]\n",
            "<class 'numpy.ndarray'>\n",
            "A has shape: (2, 2)\n"
          ]
        }
      ]
    },
    {
      "cell_type": "markdown",
      "source": [
        "# 2. Conduct matrix addition and subtraction"
      ],
      "metadata": {
        "id": "YO78aVnSAVfD"
      }
    },
    {
      "cell_type": "code",
      "source": [
        "A = np.array([[2, 3], [4, 5]])"
      ],
      "metadata": {
        "id": "2QEjxCcd_bsR"
      },
      "execution_count": 21,
      "outputs": []
    },
    {
      "cell_type": "code",
      "source": [
        "type(A)"
      ],
      "metadata": {
        "colab": {
          "base_uri": "https://localhost:8080/"
        },
        "id": "Pp0DyV_TA8yu",
        "outputId": "7e4b3130-4fdf-43f9-f2d0-2afdc2ff380d"
      },
      "execution_count": 22,
      "outputs": [
        {
          "output_type": "execute_result",
          "data": {
            "text/plain": [
              "numpy.ndarray"
            ]
          },
          "metadata": {},
          "execution_count": 22
        }
      ]
    },
    {
      "cell_type": "code",
      "source": [
        "print(A + 3)"
      ],
      "metadata": {
        "colab": {
          "base_uri": "https://localhost:8080/"
        },
        "id": "rRcFcvzYAy5d",
        "outputId": "1f4cc1c7-78bd-45d4-cac0-9ac7f314e624"
      },
      "execution_count": 25,
      "outputs": [
        {
          "output_type": "stream",
          "name": "stdout",
          "text": [
            "[[5 6]\n",
            " [7 8]]\n"
          ]
        }
      ]
    },
    {
      "cell_type": "code",
      "source": [
        "print(3 + A)"
      ],
      "metadata": {
        "colab": {
          "base_uri": "https://localhost:8080/"
        },
        "id": "mfJovg4iA2vD",
        "outputId": "b3aef3e9-90f2-4ad6-bddc-4d7254680be9"
      },
      "execution_count": 26,
      "outputs": [
        {
          "output_type": "stream",
          "name": "stdout",
          "text": [
            "[[5 6]\n",
            " [7 8]]\n"
          ]
        }
      ]
    },
    {
      "cell_type": "code",
      "source": [
        "B= np.array([[20,30],[40,50]])"
      ],
      "metadata": {
        "id": "O4Erlkc3B7Rx"
      },
      "execution_count": 27,
      "outputs": []
    },
    {
      "cell_type": "code",
      "source": [
        "print(A+B)"
      ],
      "metadata": {
        "colab": {
          "base_uri": "https://localhost:8080/"
        },
        "id": "BeUG-cDdCSWM",
        "outputId": "c45a0b95-d8e4-43b5-95bf-97490881ad53"
      },
      "execution_count": 28,
      "outputs": [
        {
          "output_type": "stream",
          "name": "stdout",
          "text": [
            "[[22 33]\n",
            " [44 55]]\n"
          ]
        }
      ]
    },
    {
      "cell_type": "code",
      "source": [
        "print(A-B)"
      ],
      "metadata": {
        "colab": {
          "base_uri": "https://localhost:8080/"
        },
        "id": "neeXPLbmCUR7",
        "outputId": "25badb0a-d680-4594-e2f5-3c887a9f965a"
      },
      "execution_count": 29,
      "outputs": [
        {
          "output_type": "stream",
          "name": "stdout",
          "text": [
            "[[-18 -27]\n",
            " [-36 -45]]\n"
          ]
        }
      ]
    },
    {
      "cell_type": "markdown",
      "source": [
        "#3. Conduct matrix multiplication and division"
      ],
      "metadata": {
        "id": "H4-9mJ7TCeD4"
      }
    },
    {
      "cell_type": "code",
      "source": [
        "print(A*3)"
      ],
      "metadata": {
        "colab": {
          "base_uri": "https://localhost:8080/"
        },
        "id": "zeP-0GP6CXIy",
        "outputId": "9c82a4cd-c5be-40a5-a60d-0ef88e4c9f30"
      },
      "execution_count": 30,
      "outputs": [
        {
          "output_type": "stream",
          "name": "stdout",
          "text": [
            "[[ 6  9]\n",
            " [12 15]]\n"
          ]
        }
      ]
    },
    {
      "cell_type": "code",
      "source": [
        "C= np.array([[4,5,3],[1,3,4]])\n",
        "print(A@C)"
      ],
      "metadata": {
        "colab": {
          "base_uri": "https://localhost:8080/"
        },
        "id": "XovfPjEVCiQ9",
        "outputId": "355a0854-26f4-46e8-8e70-d1cddaa134eb"
      },
      "execution_count": 34,
      "outputs": [
        {
          "output_type": "stream",
          "name": "stdout",
          "text": [
            "[[11 19 18]\n",
            " [21 35 32]]\n"
          ]
        }
      ]
    },
    {
      "cell_type": "code",
      "source": [
        "print(A/B)"
      ],
      "metadata": {
        "colab": {
          "base_uri": "https://localhost:8080/"
        },
        "id": "NiQQQJFKC1oI",
        "outputId": "a225251c-240d-422f-9f38-a55ad2386bac"
      },
      "execution_count": 36,
      "outputs": [
        {
          "output_type": "stream",
          "name": "stdout",
          "text": [
            "[[0.1 0.1]\n",
            " [0.1 0.1]]\n"
          ]
        }
      ]
    },
    {
      "cell_type": "markdown",
      "source": [
        " matrix transpose"
      ],
      "metadata": {
        "id": "a1VV25tMEnmP"
      }
    },
    {
      "cell_type": "code",
      "source": [
        "print(A)\n",
        "print(\"--------\")\n",
        "print(A.T)\n"
      ],
      "metadata": {
        "colab": {
          "base_uri": "https://localhost:8080/"
        },
        "id": "KOe1gEnrD6TW",
        "outputId": "21405dd1-7fd8-4e0c-9722-d96e89f42757"
      },
      "execution_count": 41,
      "outputs": [
        {
          "output_type": "stream",
          "name": "stdout",
          "text": [
            "[[2 3]\n",
            " [4 5]]\n",
            "--------\n",
            "[[2 4]\n",
            " [3 5]]\n"
          ]
        }
      ]
    },
    {
      "cell_type": "code",
      "source": [
        "testing = np.arange(6).reshape((3,2))"
      ],
      "metadata": {
        "id": "DYjAVHqLEs5A"
      },
      "execution_count": 48,
      "outputs": []
    },
    {
      "cell_type": "code",
      "source": [
        "print(testing)"
      ],
      "metadata": {
        "colab": {
          "base_uri": "https://localhost:8080/"
        },
        "id": "EMOZuwKuFf-P",
        "outputId": "e27c16cc-8133-4953-86c2-f85531b39123"
      },
      "execution_count": 49,
      "outputs": [
        {
          "output_type": "stream",
          "name": "stdout",
          "text": [
            "[[0 1]\n",
            " [2 3]\n",
            " [4 5]]\n"
          ]
        }
      ]
    },
    {
      "cell_type": "code",
      "source": [
        "A.dot(B)"
      ],
      "metadata": {
        "colab": {
          "base_uri": "https://localhost:8080/"
        },
        "id": "aZXFHJjVFhJ3",
        "outputId": "2350a37d-93bd-4cdb-8a91-66f462430790"
      },
      "execution_count": 52,
      "outputs": [
        {
          "output_type": "execute_result",
          "data": {
            "text/plain": [
              "array([[160, 210],\n",
              "       [280, 370]])"
            ]
          },
          "metadata": {},
          "execution_count": 52
        }
      ]
    },
    {
      "cell_type": "code",
      "source": [],
      "metadata": {
        "id": "AiH6CYb7Gh64"
      },
      "execution_count": null,
      "outputs": []
    }
  ]
}